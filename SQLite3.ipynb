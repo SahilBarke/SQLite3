{
 "cells": [
  {
   "cell_type": "markdown",
   "id": "7e6211c9",
   "metadata": {},
   "source": [
    "# Module: SQLite3 Assignments\n",
    "## Lesson: SQLite3"
   ]
  },
  {
   "cell_type": "markdown",
   "id": "a90b09d3",
   "metadata": {},
   "source": [
    "### Assignment 1: Creating and Connecting to a Database"
   ]
  },
  {
   "cell_type": "code",
   "execution_count": 1,
   "id": "e1537845",
   "metadata": {},
   "outputs": [
    {
     "name": "stdout",
     "output_type": "stream",
     "text": [
      "Database created and successfully connected.\n"
     ]
    }
   ],
   "source": [
    "#1. Write a Python function to create a new SQLite3 database named `test.db`.\n",
    "\n",
    "import sqlite3\n",
    "\n",
    "def create_database():\n",
    "    conn = sqlite3.connect('test.db')\n",
    "    conn.close()\n",
    "    print(\"Database created and successfully connected.\")\n",
    "\n",
    "# Test the function\n",
    "create_database()\n",
    "    "
   ]
  },
  {
   "cell_type": "code",
   "execution_count": 2,
   "id": "f321b5af",
   "metadata": {},
   "outputs": [
    {
     "name": "stdout",
     "output_type": "stream",
     "text": [
      "Table 'employees' created successfully.\n"
     ]
    }
   ],
   "source": [
    "#2. Write a Python function to create a table named `employees` with columns `id` (integer), `name` (text), `age` (integer), and `department` (text) in the `test.db` database.\n",
    "\n",
    "def create_table():\n",
    "    conn = sqlite3.connect('test.db')\n",
    "    cursor = conn.cursor()\n",
    "    \n",
    "    cursor.execute('''\n",
    "        CREATE TABLE IF NOT EXISTS employees (\n",
    "            id INTEGER PRIMARY KEY,\n",
    "            name TEXT NOT NULL,\n",
    "            age INTEGER NOT NULL,\n",
    "            department TEXT NOT NULL\n",
    "        )\n",
    "    ''')\n",
    "    \n",
    "    conn.commit()\n",
    "    conn.close()\n",
    "    print(\"Table 'employees' created successfully.\")\n",
    "    \n",
    "# Test the function\n",
    "create_table()"
   ]
  },
  {
   "cell_type": "markdown",
   "id": "38f4f50d",
   "metadata": {},
   "source": [
    "### Assignment 2: Inserting Data"
   ]
  },
  {
   "cell_type": "code",
   "execution_count": 7,
   "id": "c0866683",
   "metadata": {},
   "outputs": [
    {
     "name": "stdout",
     "output_type": "stream",
     "text": [
      "Employee Jack inserted successfully.\n",
      "Employee Rio inserted successfully.\n"
     ]
    }
   ],
   "source": [
    "#1. Write a Python function to insert a new employee into the `employees` table.\n",
    "\n",
    "def insert_employee(id, name, age, department):\n",
    "    conn = sqlite3.connect('test.db')\n",
    "    cursor = conn.cursor()\n",
    "    cursor.execute(''' INSERT INTO EMPLOYEES (id, name, age, department) VALUES (?, ?, ?, ?) ''', (id, name, age, department))\n",
    "    conn.commit()\n",
    "    conn.close()\n",
    "    print(f\"Employee {name} inserted successfully.\")\n",
    "    \n",
    "# Test the function\n",
    "insert_employee(1, 'Jack', 29, 'HR')\n",
    "insert_employee(2, 'Rio', 25, 'IT')"
   ]
  },
  {
   "cell_type": "code",
   "execution_count": 10,
   "id": "593930c0",
   "metadata": {},
   "outputs": [
    {
     "name": "stdout",
     "output_type": "stream",
     "text": [
      "Employee John inserted successfully.\n",
      "Employee Emily inserted successfully.\n",
      "Employee Michael inserted successfully.\n"
     ]
    }
   ],
   "source": [
    "#2. Insert at least 5 different employees into the `employees` table.\n",
    "\n",
    "insert_employee(3, 'John', 35, 'Finance')\n",
    "insert_employee(4, 'Emily', 32, 'Marketing')\n",
    "insert_employee(5, 'Michael', 28, 'Sales')\n"
   ]
  },
  {
   "cell_type": "markdown",
   "id": "72cbdb33",
   "metadata": {},
   "source": [
    "### Assignment 3: Querying Data"
   ]
  },
  {
   "cell_type": "code",
   "execution_count": 11,
   "id": "3d2798ed",
   "metadata": {},
   "outputs": [
    {
     "name": "stdout",
     "output_type": "stream",
     "text": [
      "(1, 'Jack', 29, 'HR')\n",
      "(2, 'Rio', 25, 'IT')\n",
      "(3, 'John', 35, 'Finance')\n",
      "(4, 'Emily', 32, 'Marketing')\n",
      "(5, 'Michael', 28, 'Sales')\n"
     ]
    }
   ],
   "source": [
    "#1. Write a Python function to fetch and display all records from the `employees` table.\n",
    "\n",
    "def fetch_employees():\n",
    "    conn = sqlite3.connect('test.db')\n",
    "    cursor = conn.cursor()\n",
    "    cursor.execute('SELECT * FROM employees')\n",
    "    records = cursor.fetchall()\n",
    "    conn.close()\n",
    "    for records in records:\n",
    "        print(records)\n",
    "        \n",
    "# Test the fucntion\n",
    "fetch_employees()"
   ]
  },
  {
   "cell_type": "code",
   "execution_count": 16,
   "id": "489c386b",
   "metadata": {},
   "outputs": [
    {
     "name": "stdout",
     "output_type": "stream",
     "text": [
      "(3, 'John', 35, 'Finance')\n",
      "(2, 'Rio', 25, 'IT')\n"
     ]
    }
   ],
   "source": [
    "#2. Write a Python function to fetch and display all employees from a specific department.\n",
    "\n",
    "def fetch_employee_dept(department):\n",
    "    conn = sqlite3.connect('test.db')\n",
    "    cursor = conn.cursor()\n",
    "    cursor.execute('SELECT * FROM employees WHERE department = ?', (department, ))\n",
    "    records = cursor.fetchall()\n",
    "    conn.close()\n",
    "    for records in records:\n",
    "        print(records)\n",
    "        \n",
    "# Test the fucntion\n",
    "fetch_employee_dept('Finance')\n",
    "fetch_employee_dept('IT')"
   ]
  },
  {
   "cell_type": "markdown",
   "id": "1b849b7f",
   "metadata": {},
   "source": [
    "### Assignment 4: Updating Data\n"
   ]
  },
  {
   "cell_type": "code",
   "execution_count": 19,
   "id": "a487e705",
   "metadata": {},
   "outputs": [
    {
     "name": "stdout",
     "output_type": "stream",
     "text": [
      "Employee department updated successfully.\n"
     ]
    }
   ],
   "source": [
    "#1. Write a Python function to update the department of an employee based on their `id`.\n",
    "\n",
    "def update_employee_dept(employee_id,new_department):\n",
    "    conn = sqlite3.connect('test.db')\n",
    "    cursor = conn.cursor()\n",
    "    cursor.execute(''' UPDATE employees SET department = ? WHERE ID = ? ''', (new_department, employee_id))\n",
    "    conn.commit()\n",
    "    conn.close()\n",
    "    print(\"Employee department updated successfully.\")\n",
    "\n",
    "#Test the function\n",
    "update_employee_dept(1, 'Finance')"
   ]
  },
  {
   "cell_type": "code",
   "execution_count": 20,
   "id": "409b0925",
   "metadata": {},
   "outputs": [
    {
     "name": "stdout",
     "output_type": "stream",
     "text": [
      "Employee department updated successfully.\n",
      "Employee department updated successfully.\n"
     ]
    }
   ],
   "source": [
    "#2. Update the department of at least 2 employees and display the updated records.\n",
    "\n",
    "update_employee_dept(2, 'Backend Engineer')\n",
    "update_employee_dept(5, 'Head of Sales and Marketing')"
   ]
  },
  {
   "cell_type": "markdown",
   "id": "117c068f",
   "metadata": {},
   "source": [
    "### Assignment 5: Deleting Data\n"
   ]
  },
  {
   "cell_type": "code",
   "execution_count": null,
   "id": "eb9c4593",
   "metadata": {},
   "outputs": [
    {
     "name": "stdout",
     "output_type": "stream",
     "text": [
      "Employee  deleted successfully.\n"
     ]
    }
   ],
   "source": [
    "# 1. Write a Python function to delete an employee from the `employees` table based on their `id`.\n",
    "\n",
    "def delete_employee(employee_id):\n",
    "    conn = sqlite3.connect('test.db')\n",
    "    cursor = conn.cursor()\n",
    "    cursor.execute(''' DELETE FROM employees WHERE id = ? ''', (employee_id, ))\n",
    "    conn.commit()\n",
    "    conn.close()\n",
    "    print(f\"Employee  deleted successfully.\")\n",
    "    \n",
    "#Test the function\n",
    "delete_employee(4)"
   ]
  },
  {
   "cell_type": "code",
   "execution_count": 27,
   "id": "531e3b85",
   "metadata": {},
   "outputs": [
    {
     "name": "stdout",
     "output_type": "stream",
     "text": [
      "Employee  deleted successfully.\n",
      "(1, 'Jack', 29, 'Finance')\n",
      "(2, 'Rio', 25, 'Backend Engineer')\n",
      "(3, 'John', 35, 'Finance')\n"
     ]
    }
   ],
   "source": [
    "# 2. Delete at least 1 employee and display the remaining records.\n",
    "\n",
    "delete_employee(5)\n",
    "\n",
    "#Fetch and display all records \n",
    "fetch_employees()"
   ]
  },
  {
   "cell_type": "markdown",
   "id": "4820b255",
   "metadata": {},
   "source": [
    "### Assignment 6: Advanced Queries"
   ]
  },
  {
   "cell_type": "code",
   "execution_count": 36,
   "id": "4e2b71a8",
   "metadata": {},
   "outputs": [
    {
     "name": "stdout",
     "output_type": "stream",
     "text": [
      "(1, 'Jack', 29, 'Finance')\n",
      "(3, 'John', 35, 'Finance')\n"
     ]
    }
   ],
   "source": [
    "# 1. Write a Python function to fetch and display employees older than a certain age.\n",
    "def fetch_to_age(employee_age):\n",
    "    conn = sqlite3.connect('test.db')\n",
    "    cursor = conn.cursor()\n",
    "    cursor.execute(''' SELECT * FROM employees where age >= ? ''', (employee_age, ))\n",
    "    records = cursor.fetchall()\n",
    "    conn.close()\n",
    "    for records in records:\n",
    "        print(records)\n",
    "\n",
    "# Test the function\n",
    "fetch_to_age(26)    "
   ]
  },
  {
   "cell_type": "code",
   "execution_count": 37,
   "id": "d220ef20",
   "metadata": {},
   "outputs": [
    {
     "name": "stdout",
     "output_type": "stream",
     "text": [
      "(2, 'Rio', 25, 'Backend Engineer')\n"
     ]
    }
   ],
   "source": [
    "# 2. Write a Python function to fetch and display employees whose names start with a specific letter.\n",
    "\n",
    "def fetch_to_name_letter(letter):\n",
    "    conn = sqlite3.connect('test.db')\n",
    "    cursor = conn.cursor()\n",
    "    cursor.execute(''' SELECT * FROM employees Where name LIKE ? ''', (letter + '%', ))\n",
    "    records = cursor.fetchall()\n",
    "    conn.close()\n",
    "    for records in records:\n",
    "        print(records)\n",
    "\n",
    "# Test the function\n",
    "fetch_to_name_letter('R')"
   ]
  },
  {
   "cell_type": "markdown",
   "id": "e821eb1b",
   "metadata": {},
   "source": [
    "### Assignment 7: Handling Transactions\n"
   ]
  },
  {
   "cell_type": "code",
   "execution_count": 39,
   "id": "98131257",
   "metadata": {},
   "outputs": [
    {
     "name": "stdout",
     "output_type": "stream",
     "text": [
      "Error Occured, transaction rolled back.\n",
      "UNIQUE constraint failed: employees.id\n"
     ]
    }
   ],
   "source": [
    "#1. Write a Python function to insert multiple employees into the `employees` table in a single transaction. Ensure that if any insertion fails, none of the insertions are committed.\n",
    "\n",
    "def insert_multiple_employees(employees):\n",
    "    conn = sqlite3.connect('test.db')\n",
    "    cursor = conn.cursor()\n",
    "    try:\n",
    "        cursor.executemany(\n",
    "            ''' INSERT INTO employees (id, name, age, department) VALUES (?, ?, ?, ?) ''',employees)\n",
    "        conn.commit()\n",
    "        print(\"All employees inserted succesfully.\")\n",
    "    except Exception as e:\n",
    "        conn.rollback()\n",
    "        print(\"Error Occured, transaction rolled back.\")\n",
    "        print(e)\n",
    "    finally:\n",
    "        conn.close()  \n",
    "\n",
    "# Test the function with valid and invalid data\n",
    "employees = [\n",
    "    (6, 'Franklin', 40, 'Finance'),\n",
    "    (7, 'Kim', 32, 'Engineering'),\n",
    "    (8, 'Nolan', 24, 'Marketing'),\n",
    "    (9, 'Annie', 38, 'Sales'),\n",
    "    (6, 'Lana', 45, 'HR')  # Duplicate ID to cause an error\n",
    "]\n",
    "insert_multiple_employees(employees)"
   ]
  },
  {
   "cell_type": "code",
   "execution_count": 40,
   "id": "50391cb3",
   "metadata": {},
   "outputs": [
    {
     "name": "stdout",
     "output_type": "stream",
     "text": [
      "All employee ages updated successfully.\n"
     ]
    }
   ],
   "source": [
    "#2. Write a Python function to update the age of multiple employees in a single transaction. Ensure that if any update fails, none of the updates are committed.\n",
    "\n",
    "def update_multiple_employees_ages(updates):\n",
    "    conn = sqlite3.connect('test.db')\n",
    "    cursor = conn.cursor()\n",
    "    try:\n",
    "        cursor.executemany('''\n",
    "            UPDATE employees\n",
    "            SET age = ?\n",
    "            WHERE id = ?\n",
    "        ''', updates)\n",
    "        conn.commit()\n",
    "        print(\"All employee ages updated successfully.\")\n",
    "    except Exception as e:\n",
    "        conn.rollback()\n",
    "        print(\"Error occurred, transaction rolled back.\")\n",
    "        print(e)\n",
    "    finally:\n",
    "        conn.close()\n",
    "\n",
    "# Test the function with valid and invalid data\n",
    "updates = [\n",
    "    (32, 1),\n",
    "    (26, 2),\n",
    "    (33, 3),\n",
    "    (41, 4),  # Non-existing ID to cause an error\n",
    "    (23, 5)\n",
    "]\n",
    "update_multiple_employees_ages(updates)"
   ]
  },
  {
   "cell_type": "markdown",
   "id": "e399cab0",
   "metadata": {},
   "source": [
    "### Assignment 8: Creating Relationships\n"
   ]
  },
  {
   "cell_type": "code",
   "execution_count": 41,
   "id": "95169929",
   "metadata": {},
   "outputs": [
    {
     "name": "stdout",
     "output_type": "stream",
     "text": [
      "Table 'departments' created succesfully\n"
     ]
    }
   ],
   "source": [
    "#1. Create a new table named `departments` with columns `id` (integer) and `name` (text).\n",
    "\n",
    "def create_dept_table ():\n",
    "    conn = sqlite3.connect('test.db')\n",
    "    cursor = conn.cursor()\n",
    "    cursor.execute(''' CREATE TABLE IF NOT EXISTS departments (id INTEGER PRIMARY KEY, name TEXT NOT NULL ) ''')\n",
    "    conn.commit()\n",
    "    conn.close()\n",
    "    print(\"Table 'departments' created succesfully\")\n",
    "    \n",
    "#Test the function\n",
    "create_dept_table()"
   ]
  },
  {
   "cell_type": "code",
   "execution_count": 48,
   "id": "73cd098b",
   "metadata": {},
   "outputs": [
    {
     "name": "stdout",
     "output_type": "stream",
     "text": [
      "Table 'employees' modified successfully.\n"
     ]
    }
   ],
   "source": [
    "#2. Modify the `employees` table to include a foreign key referencing the `id` column in the `departments` table.\n",
    "def add_department_foreign_key():\n",
    "    conn = sqlite3.connect('test.db')\n",
    "    cursor = conn.cursor()\n",
    "    cursor.executescript('''\n",
    "        PRAGMA foreign_keys=off;\n",
    "        BEGIN TRANSACTION;\n",
    "        ALTER TABLE employees RENAME TO old_employees;\n",
    "        CREATE TABLE employees (\n",
    "            id INTEGER PRIMARY KEY,\n",
    "            name TEXT NOT NULL,\n",
    "            age INTEGER,\n",
    "            department TEXT,\n",
    "            department_id INTEGER,\n",
    "            FOREIGN KEY(department_id) REFERENCES departments(id)\n",
    "        );\n",
    "        INSERT INTO employees (id, name, age, department)\n",
    "        SELECT id, name, age, department FROM old_employees;\n",
    "        DROP TABLE old_employees;\n",
    "        COMMIT;\n",
    "        PRAGMA foreign_keys=on;\n",
    "        ''')\n",
    "    conn.commit()\n",
    "    conn.close()\n",
    "    print(\"Table 'employees' modified successfully.\")\n",
    "\n",
    "# Test the function\n",
    "add_department_foreign_key()"
   ]
  },
  {
   "cell_type": "code",
   "execution_count": 55,
   "id": "07f0d946",
   "metadata": {},
   "outputs": [
    {
     "name": "stdout",
     "output_type": "stream",
     "text": [
      "Error occurred, transaction rolled back.\n",
      "UNIQUE constraint failed: departments.id\n"
     ]
    }
   ],
   "source": [
    "#3. Write a Python function to insert data into both the `departments` and `employees` tables, ensuring referential integrity.\n",
    "\n",
    "def insert_department_and_employee(department_id, department_name, employee_id, name, age, department):\n",
    "    conn = sqlite3.connect('test.db')\n",
    "    cursor = conn.cursor()\n",
    "    try:\n",
    "        cursor.execute('''\n",
    "            INSERT INTO departments (id, name)\n",
    "            VALUES (?, ?)\n",
    "        ''', (department_id, department_name))\n",
    "        cursor.execute('''\n",
    "            INSERT INTO employees (id, name, age, department, department_id)\n",
    "            VALUES (?, ?, ?, ?, ?)\n",
    "        ''', (employee_id, name, age, department, department_id))\n",
    "        conn.commit()\n",
    "        print(\"Department and employee inserted successfully.\")\n",
    "    except Exception as e:\n",
    "        conn.rollback()\n",
    "        print(\"Error occurred, transaction rolled back.\")\n",
    "        print(e)\n",
    "    finally:\n",
    "        conn.close()\n",
    "\n",
    "# Test the function\n",
    "insert_department_and_employee(1, 'Finance', 10, 'Zara', 28, 'Finance')"
   ]
  },
  {
   "cell_type": "markdown",
   "id": "172fcb64",
   "metadata": {},
   "source": [
    "### Assignment 9: Indexing and Optimization\n",
    "\n",
    "1. Create an index on the `name` column of the `employees` table."
   ]
  },
  {
   "cell_type": "code",
   "execution_count": 56,
   "id": "683175a8",
   "metadata": {},
   "outputs": [
    {
     "name": "stdout",
     "output_type": "stream",
     "text": [
      "Index on 'name' column created successfully.\n"
     ]
    }
   ],
   "source": [
    "def create_index_on_name():\n",
    "    conn = sqlite3.connect('test.db')\n",
    "    cursor = conn.cursor()\n",
    "    cursor.execute('CREATE INDEX idx_name ON employees(name)')\n",
    "    conn.commit()\n",
    "    conn.close()\n",
    "    print(\"Index on 'name' column created successfully.\")\n",
    "\n",
    "# Test the function\n",
    "create_index_on_name()"
   ]
  },
  {
   "cell_type": "markdown",
   "id": "4d1cf98d",
   "metadata": {},
   "source": [
    "2. Write a Python function to fetch and display all employees whose names start with a specific letter. Compare the performance with and without the index."
   ]
  },
  {
   "cell_type": "code",
   "execution_count": 57,
   "id": "4d8c3efa",
   "metadata": {},
   "outputs": [
    {
     "name": "stdout",
     "output_type": "stream",
     "text": [
      "Time taken: 0.0 seconds\n",
      "(1, 'Jack', 32, 'Finance', None)\n",
      "(3, 'John', 33, 'Finance', None)\n"
     ]
    }
   ],
   "source": [
    "import time\n",
    "\n",
    "def fetch_employees_name_starts_with_performance(letter):\n",
    "    conn = sqlite3.connect('test.db')\n",
    "    cursor = conn.cursor()\n",
    "    start_time = time.time()\n",
    "    cursor.execute('SELECT * FROM employees WHERE name LIKE ?', (letter + '%',))\n",
    "    records = cursor.fetchall()\n",
    "    end_time = time.time()\n",
    "    conn.close()\n",
    "    print(\"Time taken: {} seconds\".format(end_time - start_time))\n",
    "    for record in records:\n",
    "        print(record)\n",
    "\n",
    "# Test the function with the index\n",
    "fetch_employees_name_starts_with_performance('J')"
   ]
  },
  {
   "cell_type": "markdown",
   "id": "42ccbd6c",
   "metadata": {},
   "source": [
    "### Assignment 10: Backing Up and Restoring Data\n",
    "\n",
    "1. Write a Python function to back up the `test.db` database to a file named `backup.db`."
   ]
  },
  {
   "cell_type": "code",
   "execution_count": 59,
   "id": "bd831877",
   "metadata": {},
   "outputs": [
    {
     "name": "stdout",
     "output_type": "stream",
     "text": [
      "Database backed up succesfully\n"
     ]
    }
   ],
   "source": [
    "import shutil\n",
    "\n",
    "def db_backup():\n",
    "    shutil.copy('test.db', 'backup.db')\n",
    "    print('Database backed up succesfully')\n",
    "    \n",
    "# Test function\n",
    "db_backup()"
   ]
  },
  {
   "cell_type": "markdown",
   "id": "9f35e61f",
   "metadata": {},
   "source": [
    "2. Write a Python function to restore the `test.db` database from the `backup.db` file."
   ]
  },
  {
   "cell_type": "code",
   "execution_count": 60,
   "id": "2938bd89",
   "metadata": {},
   "outputs": [
    {
     "name": "stdout",
     "output_type": "stream",
     "text": [
      "Database restored succcefully\n"
     ]
    }
   ],
   "source": [
    "def restore_db():\n",
    "    shutil.copy('backup.db', 'test.db')\n",
    "    print('Database restored succcefully')\n",
    "    \n",
    "#Test Function\n",
    "restore_db()"
   ]
  }
 ],
 "metadata": {
  "kernelspec": {
   "display_name": "venv",
   "language": "python",
   "name": "python3"
  },
  "language_info": {
   "codemirror_mode": {
    "name": "ipython",
    "version": 3
   },
   "file_extension": ".py",
   "mimetype": "text/x-python",
   "name": "python",
   "nbconvert_exporter": "python",
   "pygments_lexer": "ipython3",
   "version": "3.12.9"
  }
 },
 "nbformat": 4,
 "nbformat_minor": 5
}
